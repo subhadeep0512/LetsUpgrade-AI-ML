{
 "cells": [
  {
   "cell_type": "markdown",
   "metadata": {},
   "source": [
    "# 1. Create a 3x3x3 array with random values "
   ]
  },
  {
   "cell_type": "code",
   "execution_count": 3,
   "metadata": {},
   "outputs": [
    {
     "data": {
      "text/plain": [
       "array([[[0.95073214, 0.57490884, 0.11540682],\n",
       "        [0.6070704 , 0.86659658, 0.08240078],\n",
       "        [0.76005173, 0.90871403, 0.97183158]],\n",
       "\n",
       "       [[0.65455776, 0.24960645, 0.89743397],\n",
       "        [0.55251281, 0.98288366, 0.01718117],\n",
       "        [0.21979484, 0.39579227, 0.64965005]],\n",
       "\n",
       "       [[0.79741071, 0.03635918, 0.28444765],\n",
       "        [0.83069431, 0.55442707, 0.80218957],\n",
       "        [0.62331619, 0.56155197, 0.03503777]]])"
      ]
     },
     "execution_count": 3,
     "metadata": {},
     "output_type": "execute_result"
    }
   ],
   "source": [
    "import numpy as np\n",
    "\n",
    "rand = np.random.random((3,3,3))\n",
    "rand"
   ]
  },
  {
   "cell_type": "markdown",
   "metadata": {},
   "source": [
    "# 2.Create a 5x5 matrix with values 1,2,3,4 just below the diagonal"
   ]
  },
  {
   "cell_type": "code",
   "execution_count": null,
   "metadata": {},
   "outputs": [],
   "source": []
  },
  {
   "cell_type": "markdown",
   "metadata": {},
   "source": [
    "# 3.Create a 8x8 matrix and fill it with a checkerboard pattern"
   ]
  },
  {
   "cell_type": "code",
   "execution_count": 45,
   "metadata": {},
   "outputs": [
    {
     "name": "stdout",
     "output_type": "stream",
     "text": [
      "Checkerboard pattern:\n",
      "[[0. 1. 0. 1. 0. 1. 0. 1.]\n",
      " [1. 0. 1. 0. 1. 0. 1. 0.]\n",
      " [0. 1. 0. 1. 0. 1. 0. 1.]\n",
      " [1. 0. 1. 0. 1. 0. 1. 0.]\n",
      " [0. 1. 0. 1. 0. 1. 0. 1.]\n",
      " [1. 0. 1. 0. 1. 0. 1. 0.]\n",
      " [0. 1. 0. 1. 0. 1. 0. 1.]\n",
      " [1. 0. 1. 0. 1. 0. 1. 0.]]\n"
     ]
    }
   ],
   "source": [
    "print(\"Checkerboard pattern:\")\n",
    "x = np.zeros((8,8))\n",
    "x[1::2,::2] = 1\n",
    "x[::2,1::2] = 1\n",
    "print(x)"
   ]
  },
  {
   "cell_type": "markdown",
   "metadata": {},
   "source": [
    "# 4. Normalize a 5x5 random matrix"
   ]
  },
  {
   "cell_type": "code",
   "execution_count": 14,
   "metadata": {},
   "outputs": [
    {
     "name": "stdout",
     "output_type": "stream",
     "text": [
      "Original matrix :\n",
      "[[0.08442785 0.63868527 0.67449384 0.44205017 0.16579163]\n",
      " [0.44309128 0.67095973 0.8618699  0.05724028 0.72845902]\n",
      " [0.93758931 0.20762157 0.84856096 0.45935555 0.75787423]\n",
      " [0.19569533 0.52540134 0.59654301 0.38354502 0.16518804]\n",
      " [0.14746799 0.08791321 0.66830748 0.39862013 0.52080508]]\n",
      "After nomalization :\n",
      "[[0.03088272 0.66047099 0.70114641 0.43711059 0.1233049 ]\n",
      " [0.43829321 0.69713197 0.91398933 0.         0.76244616]\n",
      " [1.         0.17082008 0.89887153 0.456768   0.79585929]\n",
      " [0.15727291 0.53179029 0.61260104 0.37065383 0.12261928]\n",
      " [0.10249084 0.03484179 0.69411924 0.38777785 0.52656934]]\n"
     ]
    }
   ],
   "source": [
    "rand = np.random.random((5,5))\n",
    "print('Original matrix :')\n",
    "print(rand)\n",
    "randmax,randmin = rand.max(),rand.min()\n",
    "rand = (rand-randmin)/(randmax-randmin)\n",
    "print('After nomalization :')\n",
    "print(rand)\n"
   ]
  },
  {
   "cell_type": "markdown",
   "metadata": {},
   "source": [
    "# 5.  How to find common values between two arrays?"
   ]
  },
  {
   "cell_type": "code",
   "execution_count": 16,
   "metadata": {},
   "outputs": [
    {
     "name": "stdout",
     "output_type": "stream",
     "text": [
      "[4 5 9]\n"
     ]
    }
   ],
   "source": [
    "arr1 = [4,8,3,9,5]\n",
    "arr2 = [2,4,6,9,5]\n",
    "common = np.intersect1d(arr1, arr2)\n",
    "print(common)"
   ]
  },
  {
   "cell_type": "markdown",
   "metadata": {},
   "source": [
    "# 6.How to get the dates of yesterday, today and tomorrow?"
   ]
  },
  {
   "cell_type": "code",
   "execution_count": null,
   "metadata": {},
   "outputs": [],
   "source": []
  },
  {
   "cell_type": "markdown",
   "metadata": {},
   "source": [
    "# 7. Consider two random array A and B, check if they are equal"
   ]
  },
  {
   "cell_type": "code",
   "execution_count": 17,
   "metadata": {},
   "outputs": [
    {
     "data": {
      "text/plain": [
       "array([False, False, False, False, False])"
      ]
     },
     "execution_count": 17,
     "metadata": {},
     "output_type": "execute_result"
    }
   ],
   "source": [
    "arr1 = np.random.randint(0,20,5)\n",
    "arr2 = np.random.randint(0,20,5)\n",
    "arr1 == arr2"
   ]
  },
  {
   "cell_type": "markdown",
   "metadata": {},
   "source": [
    "# 8.Create random vector of size 10 and replace the maximum value by 0 "
   ]
  },
  {
   "cell_type": "code",
   "execution_count": 23,
   "metadata": {},
   "outputs": [
    {
     "name": "stdout",
     "output_type": "stream",
     "text": [
      "Before: [11  9  0  5 14  9 26 11 29  3]\n",
      "After max value change by 0: [11  9  0  5 14  9 26 11  0  3]\n"
     ]
    }
   ],
   "source": [
    "arr = np.random.randint(0, 30, 10)\n",
    "print('Before:',arr)\n",
    "arr[arr.argmax()] = 0\n",
    "print('After max value change by 0:',arr)"
   ]
  },
  {
   "cell_type": "markdown",
   "metadata": {},
   "source": [
    "# 9. How to print all the values of an array?"
   ]
  },
  {
   "cell_type": "code",
   "execution_count": 18,
   "metadata": {},
   "outputs": [
    {
     "name": "stdout",
     "output_type": "stream",
     "text": [
      "1 2 3 4 5 6 7 8 9\n"
     ]
    }
   ],
   "source": [
    "arr = np.array([1,2,3,4,5,6,7,8,9])\n",
    "print(*arr)"
   ]
  },
  {
   "cell_type": "markdown",
   "metadata": {},
   "source": [
    "# 10.Subtract the mean of each row of a matrix"
   ]
  },
  {
   "cell_type": "code",
   "execution_count": 27,
   "metadata": {},
   "outputs": [
    {
     "name": "stdout",
     "output_type": "stream",
     "text": [
      "Original matrix:\n",
      "\n",
      "[[0.85436885 0.54084535 0.11335183 0.30422771 0.97793056 0.28404126\n",
      "  0.48286864 0.02849563 0.02848603 0.20036308]\n",
      " [0.65903193 0.9384489  0.0739217  0.20062755 0.73306297 0.66190495\n",
      "  0.05879538 0.47163808 0.29123097 0.40266863]\n",
      " [0.45518419 0.29331804 0.07208655 0.24804213 0.21714049 0.75209508\n",
      "  0.58962409 0.14231226 0.61475908 0.67244177]\n",
      " [0.08706462 0.12826302 0.58618028 0.70529792 0.80073433 0.65043266\n",
      "  0.20633335 0.19366041 0.41722124 0.97491148]]\n",
      "\n",
      "Subtract the mean of each row of the said matrix:\n",
      "\n",
      "[[ 0.47287095  0.15934746 -0.26814606 -0.07727019  0.59643267 -0.09745664\n",
      "   0.10137075 -0.35300227 -0.35301187 -0.18113482]\n",
      " [ 0.20989883  0.4893158  -0.3752114  -0.24850556  0.28392986  0.21277185\n",
      "  -0.39033773  0.02250497 -0.15790214 -0.04646448]\n",
      " [ 0.04948383 -0.11238233 -0.33361382 -0.15765824 -0.18855988  0.34639471\n",
      "   0.18392372 -0.26338811  0.20905871  0.2667414 ]\n",
      " [-0.38794531 -0.34674691  0.11117035  0.23028799  0.3257244   0.17542273\n",
      "  -0.26867658 -0.28134952 -0.05778869  0.49990155]]\n"
     ]
    }
   ],
   "source": [
    "print(\"Original matrix:\\n\")\n",
    "X = np.random.rand(4, 10)\n",
    "print(X)\n",
    "print(\"\\nSubtract the mean of each row of the said matrix:\\n\")\n",
    "Y = X - X.mean(axis=1, keepdims=True)\n",
    "print(Y)"
   ]
  },
  {
   "cell_type": "markdown",
   "metadata": {},
   "source": [
    "# 11.Consider a given vector, how to add 1 to each element indexed by a second vector (be careful with repeated indices)? "
   ]
  },
  {
   "cell_type": "code",
   "execution_count": null,
   "metadata": {},
   "outputs": [],
   "source": []
  },
  {
   "cell_type": "markdown",
   "metadata": {},
   "source": [
    "# 12.How to get the diagonal of a dot product?"
   ]
  },
  {
   "cell_type": "code",
   "execution_count": 32,
   "metadata": {},
   "outputs": [
    {
     "name": "stdout",
     "output_type": "stream",
     "text": [
      "vector A: [[9 3]\n",
      " [7 8]]\n",
      "Vector B: [[8 6]\n",
      " [7 8]]\n",
      "[[ 93  78]\n",
      " [112 106]]\n",
      "The diagonal dot products are : [ 93 106]\n"
     ]
    }
   ],
   "source": [
    "a = np.random.randint(0, 10, (2,2))\n",
    "b = np.random.randint(5, 10, (2,2))\n",
    "print('vector A:',a)\n",
    "print('Vector B:',b)\n",
    "product = np.dot(a,b) \n",
    "print(product)\n",
    "print('The diagonal dot products are :',np.diag(product))"
   ]
  },
  {
   "cell_type": "markdown",
   "metadata": {},
   "source": [
    "# 13.How to find the most frequent value in an array?"
   ]
  },
  {
   "cell_type": "code",
   "execution_count": 33,
   "metadata": {},
   "outputs": [
    {
     "name": "stdout",
     "output_type": "stream",
     "text": [
      "Original array:\n",
      "[12 12 17 48 17 14  8 22 15 39 16 39 49 35 23 43 24 22 48 47]\n",
      "Most frequent value in the above array:\n",
      "12\n"
     ]
    }
   ],
   "source": [
    "x = np.random.randint(5, 50, 20)\n",
    "print(\"Original array:\")\n",
    "print(x)\n",
    "print(\"Most frequent value in the above array:\")\n",
    "print(np.bincount(x).argmax())"
   ]
  },
  {
   "cell_type": "markdown",
   "metadata": {},
   "source": [
    "# 14.How to get the n largest values of an array"
   ]
  },
  {
   "cell_type": "code",
   "execution_count": 36,
   "metadata": {},
   "outputs": [
    {
     "name": "stdout",
     "output_type": "stream",
     "text": [
      "Original array:\n",
      "[0 1 2 3 4 5 6 7 8 9]\n",
      "[9]\n"
     ]
    }
   ],
   "source": [
    "x = np.arange(10)\n",
    "print(\"Original array:\")\n",
    "print(x)\n",
    "np.random.shuffle(x)\n",
    "n = 1\n",
    "print (x[np.argsort(x)[-n:]])"
   ]
  },
  {
   "cell_type": "markdown",
   "metadata": {},
   "source": [
    "# 15.How to create a record array from a regular array?"
   ]
  },
  {
   "cell_type": "code",
   "execution_count": null,
   "metadata": {},
   "outputs": [],
   "source": []
  }
 ],
 "metadata": {
  "kernelspec": {
   "display_name": "Python 3",
   "language": "python",
   "name": "python3"
  },
  "language_info": {
   "codemirror_mode": {
    "name": "ipython",
    "version": 3
   },
   "file_extension": ".py",
   "mimetype": "text/x-python",
   "name": "python",
   "nbconvert_exporter": "python",
   "pygments_lexer": "ipython3",
   "version": "3.7.6"
  }
 },
 "nbformat": 4,
 "nbformat_minor": 2
}

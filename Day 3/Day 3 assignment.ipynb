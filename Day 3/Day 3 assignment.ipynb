{
 "cells": [
  {
   "cell_type": "code",
   "execution_count": 1,
   "metadata": {},
   "outputs": [
    {
     "name": "stdout",
     "output_type": "stream",
     "text": [
      "The value for the substraction is :  (1+4j)\n"
     ]
    }
   ],
   "source": [
    "#  Q1.subraction of two complex number\n",
    "Z1 = complex(3,5)\n",
    "Z2 = complex(2,1)\n",
    "Z = Z1-Z2\n",
    "print('The value for the substraction is : ', Z)"
   ]
  },
  {
   "cell_type": "code",
   "execution_count": 2,
   "metadata": {},
   "outputs": [
    {
     "name": "stdout",
     "output_type": "stream",
     "text": [
      "The fourth root of 1000 is :  5.623413251903491\n"
     ]
    }
   ],
   "source": [
    "# Q2.program to find the fourth root\n",
    "num = 1000\n",
    "root = 4\n",
    "fourth_root = num**(1/root)\n",
    "print('The fourth root of 1000 is : ', fourth_root)"
   ]
  },
  {
   "cell_type": "code",
   "execution_count": 2,
   "metadata": {},
   "outputs": [
    {
     "name": "stdout",
     "output_type": "stream",
     "text": [
      "The value in var1 is :  3  and var 2 is :  5\n"
     ]
    }
   ],
   "source": [
    "# Q3.swapping two number with a temporary variable\n",
    "var1 = 5\n",
    "var2 = 3\n",
    "var = var1\n",
    "var1 = var2\n",
    "var2 = var\n",
    "print('The value in var1 is : ', var1,' and var 2 is : ', var2)"
   ]
  },
  {
   "cell_type": "code",
   "execution_count": 1,
   "metadata": {},
   "outputs": [
    {
     "name": "stdout",
     "output_type": "stream",
     "text": [
      " the value in var1 is :  3  and var2 is :  5\n"
     ]
    }
   ],
   "source": [
    "# Q4.swapping without a temporary variable\n",
    "var1 = 5\n",
    "var2 = 3\n",
    "var1 = var1 + var2\n",
    "var2 = var1-var2\n",
    "var1 = var1-var2\n",
    "print(' the value in var1 is : ', var1,' and var2 is : ', var2)\n"
   ]
  },
  {
   "cell_type": "markdown",
   "metadata": {},
   "source": [
    "## Q5. Write a program to convert fahrenheit to kelvin and celsius both."
   ]
  },
  {
   "cell_type": "code",
   "execution_count": 7,
   "metadata": {},
   "outputs": [
    {
     "name": "stdout",
     "output_type": "stream",
     "text": [
      "The temperature in celsius is :  10.0  and kelvin is :  283.15\n"
     ]
    }
   ],
   "source": [
    "temp_f = 50\n",
    "temp_c = (temp_f - 32)*(5/9)\n",
    "temp_k = (temp_f - 32)*(5/9)+273.15\n",
    "\n",
    "print('The temperature in celsius is : ', temp_c, ' and kelvin is : ', temp_k)"
   ]
  },
  {
   "cell_type": "code",
   "execution_count": 8,
   "metadata": {},
   "outputs": [
    {
     "name": "stdout",
     "output_type": "stream",
     "text": [
      "<class 'int'> <class 'float'> <class 'complex'> <class 'str'> <class 'bool'> <class 'list'> <class 'tuple'> <class 'dict'>\n"
     ]
    }
   ],
   "source": [
    "# Q6.program to demonstrate all available data type in python\n",
    "x1 = type(2)\n",
    "x2 = type(2.3)\n",
    "x3 = type(2+3j)\n",
    "x4 = type(\"two and 3\")\n",
    "x5 = type(True)\n",
    "x6 = type([12,23])\n",
    "x7 = type((10,'hello world'))\n",
    "x8 = type({'1':'red','2':'blue'})\n",
    "print(x1,x2,x3,x4,x5,x6,x7,x8)"
   ]
  },
  {
   "cell_type": "markdown",
   "metadata": {},
   "source": [
    "Q7.Create a Markdown cell in jupyter and list the steps discussed in the session by Dr. Darshan\n",
    "Ingle sir to create Github profile and upload Githubs Assignment link."
   ]
  },
  {
   "cell_type": "markdown",
   "metadata": {},
   "source": [
    "Answer :\n",
    "1.  Go to Githib.com.\n",
    "2.  Signup using username,email and password.\n",
    "3.  After confirming email id, signin with the credentials.\n",
    "4.  Click on 'New' in the top left corner beside repositeries.\n",
    "5.  Type repositary name as 'LetsUpgrade AL-ML', description to 'Assignments' and keep the privacy setting to 'public'.\n",
    "6.  Then click on the 'create repository' to finish creating the repositary/folder for all the assignment for LetsUpgrade.\n",
    "7.  Go to the Repositary and click on 'upload an existing file' for uploading the assignment which was completed in jupyter         notebook and saved in the destop inside a folder named appropiately with 'the assignment day' name.\n",
    "8.  Then drag the file to the github folder and select on 'commit changes'.\n",
    "9.  As soon as the folder gets uploaded, go inside the folder and copy the file URL .\n",
    "10. Go to the google form provided by the LetsUpgrade for assignment submission,  fill it up with appropiate name                   email,assignment number, mobile number and pasting the file URL.\n",
    "11. Before finally submitting,check the URL in the browser opened in the incognito mode for aasurance.\n",
    "12. Finally after reconfirming the URL. click 'submit' to officially submit the assignment for any given day.\n",
    "13. Then we can  go to our registered mail to re-affirm the submission via the google form mail received for the submission of      the assignment."
   ]
  },
  {
   "cell_type": "code",
   "execution_count": null,
   "metadata": {},
   "outputs": [],
   "source": []
  }
 ],
 "metadata": {
  "kernelspec": {
   "display_name": "Python 3",
   "language": "python",
   "name": "python3"
  },
  "language_info": {
   "codemirror_mode": {
    "name": "ipython",
    "version": 3
   },
   "file_extension": ".py",
   "mimetype": "text/x-python",
   "name": "python",
   "nbconvert_exporter": "python",
   "pygments_lexer": "ipython3",
   "version": "3.7.6"
  }
 },
 "nbformat": 4,
 "nbformat_minor": 4
}

{
 "cells": [
  {
   "cell_type": "markdown",
   "metadata": {},
   "source": [
    "## Q1.Write a Python program to find the first 20 non-even prime natural numbers.\n"
   ]
  },
  {
   "cell_type": "code",
   "execution_count": 6,
   "metadata": {},
   "outputs": [
    {
     "name": "stdout",
     "output_type": "stream",
     "text": [
      "3\n",
      "5\n",
      "7\n",
      "11\n",
      "13\n",
      "17\n",
      "19\n",
      "23\n",
      "29\n",
      "31\n",
      "37\n",
      "41\n",
      "43\n",
      "47\n",
      "53\n",
      "59\n",
      "61\n",
      "67\n",
      "71\n",
      "73\n"
     ]
    }
   ],
   "source": [
    "k=0\n",
    "n=0\n",
    "for i in range(3,100,2):\n",
    "    for j in range(2,i//2+1):\n",
    "        if (i%j)!=0 :\n",
    "            k=0\n",
    "        else:\n",
    "            k=1\n",
    "            break\n",
    "    if(k==0):\n",
    "        print(i)\n",
    "        n+=1\n",
    "        if (n==20):\n",
    "            break"
   ]
  },
  {
   "cell_type": "markdown",
   "metadata": {},
   "source": [
    "## Q2.Write a Python program to implement 15 functions of string"
   ]
  },
  {
   "cell_type": "code",
   "execution_count": 33,
   "metadata": {},
   "outputs": [
    {
     "name": "stdout",
     "output_type": "stream",
     "text": [
      "   artifiicial intelligence   \n",
      "   ARTIFIICIAL INTELLIGENCE   \n",
      "   artifiicial intelligence   \n",
      "4\n",
      "23\n",
      "   artifiicial intelligence   \n",
      "21\n",
      "artIFIicial inTElligence   \n",
      "   artIFIicial inTElligence\n",
      "   artIFIicial inTElligence   \n",
      "   Artifiicial Intelligence   \n",
      "['artIFIicial', 'inTElligence']\n",
      "False\n",
      "   ARTifiICIAL INteLLIGENCE   \n",
      "t\n"
     ]
    }
   ],
   "source": [
    "st = \"   artIFIicial inTElligence   \"\n",
    "print(st.capitalize())\n",
    "print(st.upper())\n",
    "print(st.lower())\n",
    "print(st.count('i'))\n",
    "print(st.find('e'))\n",
    "print(st.casefold())\n",
    "print(st.rfind('i'))\n",
    "print(st.lstrip())\n",
    "print(st.rstrip())\n",
    "print(st.replace('artificial','machine'))\n",
    "print(st.title())\n",
    "print(st.split())\n",
    "print(st.endswith('abc'))\n",
    "print(st.swapcase())\n",
    "print(max(st))\n"
   ]
  },
  {
   "cell_type": "markdown",
   "metadata": {},
   "source": [
    "## Q3.Write a Python program to check if the given string is a Palindrome or Anagram or None of them.Display the message accordingly to the user."
   ]
  },
  {
   "cell_type": "code",
   "execution_count": 3,
   "metadata": {},
   "outputs": [
    {
     "name": "stdout",
     "output_type": "stream",
     "text": [
      "enter another number :heart\n",
      "enter another number :kit\n",
      "none of the strings are palidrome or anagram\n"
     ]
    }
   ],
   "source": [
    "# Palindrome function def:\n",
    "\n",
    "def ispalindrome(string1):\n",
    "    return string1[::]==string1[::-1]\n",
    "\n",
    "# anagram func def :\n",
    "\n",
    "def isanagram(string1,string2):\n",
    "    return sorted(string1)==sorted(string2)\n",
    "\n",
    "#body:\n",
    "\n",
    "string1 = input('enter another number :')\n",
    "string2 = input('enter another number :')\n",
    "re1 = ispalindrome(string1)\n",
    "re2 = isanagram(string1,string2)\n",
    "\n",
    "if re1==True:\n",
    "    print('The entered string ',string1,' is a palindrome!')\n",
    "elif re2==True:\n",
    "    print('The entered strings ', string1,' and', string2,' are anagram!')\n",
    "else:\n",
    "    print('none of the strings are palidrome or anagram')\n"
   ]
  },
  {
   "cell_type": "markdown",
   "metadata": {},
   "source": [
    "## Q4.Write a Python's user defined function that removes all the additional characters from the string and converts it finally to lower case using built-in lower(). eg: If the string is \"Dr. Darshan Ingle @AI-ML Trainer\", then the output be \"drdarshaningleaimltrainer\"."
   ]
  },
  {
   "cell_type": "code",
   "execution_count": 7,
   "metadata": {},
   "outputs": [
    {
     "name": "stdout",
     "output_type": "stream",
     "text": [
      "enter a string :lknklnkjnknjnFDFDFDFD%%%%%::::\n"
     ]
    }
   ],
   "source": [
    "def remove(str):\n",
    "    if i in add_char:\n",
    "        str=str.replace(i,'')\n",
    "        str=str.lower()\n",
    "        print(str)\n",
    "        \n",
    "str = input('enter a string :')\n",
    "add_char=['.','@','-',':','!',';','#','$','%','*']\n",
    "\n",
    "remove(str)"
   ]
  },
  {
   "cell_type": "code",
   "execution_count": null,
   "metadata": {},
   "outputs": [],
   "source": []
  },
  {
   "cell_type": "code",
   "execution_count": null,
   "metadata": {},
   "outputs": [],
   "source": []
  }
 ],
 "metadata": {
  "kernelspec": {
   "display_name": "Python 3",
   "language": "python",
   "name": "python3"
  },
  "language_info": {
   "codemirror_mode": {
    "name": "ipython",
    "version": 3
   },
   "file_extension": ".py",
   "mimetype": "text/x-python",
   "name": "python",
   "nbconvert_exporter": "python",
   "pygments_lexer": "ipython3",
   "version": "3.7.6"
  }
 },
 "nbformat": 4,
 "nbformat_minor": 4
}

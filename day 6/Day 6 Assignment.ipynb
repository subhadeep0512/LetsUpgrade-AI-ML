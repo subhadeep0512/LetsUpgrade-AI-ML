{
 "cells": [
  {
   "cell_type": "markdown",
   "metadata": {},
   "source": [
    "## Q1.Assuming that we have some email addresses in the \"username@companyname.com\" format, please write program to print the company name of a given email address. Both user names and company names are composed of letters only."
   ]
  },
  {
   "cell_type": "code",
   "execution_count": 1,
   "metadata": {},
   "outputs": [
    {
     "name": "stdout",
     "output_type": "stream",
     "text": [
      "Enter your company mail id :rnb@marley.com\n",
      "So you work for : marley  !!\n"
     ]
    }
   ],
   "source": [
    "Mail_id = input('Enter your company mail id :')\n",
    "\n",
    "x= Mail_id.find('@')\n",
    "y= Mail_id.find('.')\n",
    "comp = Mail_id[x+1:y]\n",
    "\n",
    "print('So you work for :', comp ,' !!')"
   ]
  },
  {
   "cell_type": "markdown",
   "metadata": {},
   "source": [
    "## Q2."
   ]
  },
  {
   "cell_type": "code",
   "execution_count": 25,
   "metadata": {},
   "outputs": [
    {
     "name": "stdout",
     "output_type": "stream",
     "text": [
      "Enter a comma-separated sequence of words :led zep,beatles,bob.son house\n",
      "['beatles', 'bob.son house', 'led zep']\n"
     ]
    }
   ],
   "source": [
    "#WAP to accepts a comma-separated sequence of words as input and prints the words in a comma\n",
    "#separated sequence after sorting them alphabetically.\n",
    "st = input('Enter a comma-separated sequence of words :')\n",
    "print(sorted(st.split(',')))"
   ]
  },
  {
   "cell_type": "markdown",
   "metadata": {},
   "source": [
    "## Q3.\n",
    "Create your own Jupyter Notebook for Sets.\n",
    "Reference link: https://www.w3schools.com/python/python_sets.asp"
   ]
  },
  {
   "cell_type": "markdown",
   "metadata": {},
   "source": [
    "## Set.\n",
    "A set is a collection which is unordered and unindexed. In Python sets are written with curly brackets. Since a set is unordered, we can never be sure in which order the items will appear."
   ]
  },
  {
   "cell_type": "code",
   "execution_count": 27,
   "metadata": {},
   "outputs": [
    {
     "name": "stdout",
     "output_type": "stream",
     "text": [
      "{'descartes', 'archimedes', 'newton', 'einstein'}\n"
     ]
    }
   ],
   "source": [
    "#example:\n",
    "SET = {'archimedes','descartes','newton','einstein'}\n",
    "print(SET)"
   ]
  },
  {
   "cell_type": "markdown",
   "metadata": {},
   "source": [
    "We won't be able to change a set's item other than adding/updating or removing items with the add/update methods or discard/remove methods.\n"
   ]
  },
  {
   "cell_type": "code",
   "execution_count": 36,
   "metadata": {},
   "outputs": [
    {
     "name": "stdout",
     "output_type": "stream",
     "text": [
      "{'k', 'w', 'o', 'archimedes', 'newton', 'descartes', 'i', 's', 'minkowski', 'euclid', 'n', 'einstein', 'm'}\n",
      "{'k', 'w', 'o', 'archimedes', 'newton', 'descartes', 'i', 's', 'euclid', 'n', 'einstein', 'm'}\n"
     ]
    }
   ],
   "source": [
    "#example\n",
    "SET.add('minkowski')\n",
    "print(SET)\n",
    "SET.remove('minkowski')\n",
    "print(SET)"
   ]
  },
  {
   "cell_type": "code",
   "execution_count": 38,
   "metadata": {},
   "outputs": [
    {
     "name": "stdout",
     "output_type": "stream",
     "text": [
      "{1, 2, 3, 6, 7, 8}\n"
     ]
    }
   ],
   "source": [
    "#ti join two set with union()\n",
    "x = {1,2,3}\n",
    "y = {6,7,8}\n",
    "z = x.union(y)\n",
    "print(z)"
   ]
  },
  {
   "cell_type": "markdown",
   "metadata": {},
   "source": [
    "## Q4.\n",
    "Given a list of n-1 numbers ranging from 1 to n, your task is to find the missing number. There are no duplicates.\n"
   ]
  },
  {
   "cell_type": "code",
   "execution_count": 1,
   "metadata": {},
   "outputs": [
    {
     "name": "stdout",
     "output_type": "stream",
     "text": [
      "enter an upper range to play the game of missing number :5\n",
      "enter limit-1 numbers in sequence starting from 1 to limit, leaving out just 1:\n",
      "1345\n",
      "The numbers you entered are : 1 3 4 5 and the one you deliberately missed out is : 2\n"
     ]
    }
   ],
   "source": [
    "limit = int(input('enter an upper range to play the game of missing number :'))\n",
    "z = limit*(limit+1)//2  #calculating arithmetic sum of 1st n numbers in z\n",
    "print('enter limit-1 numbers in sequence starting from 1 to limit, leaving out just 1:')\n",
    "enter_num = input()\n",
    "x = list(map(int,enter_num))  #changing inputs entered to integers\n",
    "missing_num=0\n",
    "      \n",
    "if len(x)==(limit-1):\n",
    "    SUM=sum(x)\n",
    "    missing_num= (z-SUM)\n",
    "    print('The numbers you entered are :',(*enter_num), 'and the one you deliberately missed out is :', missing_num)\n",
    "else:\n",
    "    print('please enter exactly',limit-1, ' numbers in sequence leaving 1.')\n",
    "      \n"
   ]
  },
  {
   "cell_type": "markdown",
   "metadata": {},
   "source": [
    "## Q5.\n",
    "With a given list L, write a program to print this list L after removing all duplicate values with original order reserved.\n"
   ]
  },
  {
   "cell_type": "code",
   "execution_count": 23,
   "metadata": {},
   "outputs": [
    {
     "name": "stdout",
     "output_type": "stream",
     "text": [
      "The original list is : [1, 3, 3, 5, 10, 11, 11, 33, 33]\n",
      "The list after removing duplicates is: [1, 3, 5, 10, 11, 33]\n"
     ]
    }
   ],
   "source": [
    "dup_list = [1,3,3,5,10,11,11,33,33]\n",
    "print('The original list is :', str(dup_list))\n",
    "f_list = []\n",
    "for i in dup_list:\n",
    "    if i not in f_list:\n",
    "        f_list.append(i)\n",
    "print('The list after removing duplicates is:', f_list)"
   ]
  },
  {
   "cell_type": "code",
   "execution_count": null,
   "metadata": {},
   "outputs": [],
   "source": []
  }
 ],
 "metadata": {
  "kernelspec": {
   "display_name": "Python 3",
   "language": "python",
   "name": "python3"
  },
  "language_info": {
   "codemirror_mode": {
    "name": "ipython",
    "version": 3
   },
   "file_extension": ".py",
   "mimetype": "text/x-python",
   "name": "python",
   "nbconvert_exporter": "python",
   "pygments_lexer": "ipython3",
   "version": "3.7.6"
  }
 },
 "nbformat": 4,
 "nbformat_minor": 4
}
